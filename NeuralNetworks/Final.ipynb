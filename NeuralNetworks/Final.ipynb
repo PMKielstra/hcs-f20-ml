{
 "cells": [
  {
   "cell_type": "markdown",
   "metadata": {},
   "source": [
    "Neural networks are mathematical.  I wrote a neural network that learns to do mathematics.  In tests, it performed best in the context of taking linear transformations of the inputs, so that's what I stick to here."
   ]
  },
  {
   "cell_type": "code",
   "execution_count": 17,
   "metadata": {},
   "outputs": [],
   "source": [
    "# import required libraries\n",
    "import numpy as np\n",
    "import matplotlib.pyplot as plt\n",
    "import tensorflow as tf\n",
    "from tensorflow import keras\n",
    "from tensorflow.keras import layers\n",
    "import math"
   ]
  },
  {
   "cell_type": "code",
   "execution_count": 18,
   "metadata": {},
   "outputs": [],
   "source": [
    "def make_data(size, func):\n",
    "    X = []\n",
    "    y = []\n",
    "    for _ in range(size):\n",
    "        p = np.random.randint(0, 1000)\n",
    "        q = np.random.randint(0, 1000)\n",
    "        X.append([p, q])\n",
    "        y.append(func(p, q))\n",
    "    return X, y"
   ]
  },
  {
   "cell_type": "code",
   "execution_count": 19,
   "metadata": {},
   "outputs": [],
   "source": [
    "def model_on_func(func, epochs=100):\n",
    "    model = keras.models.Sequential()\n",
    "    model.add(layers.Dense(16, input_shape=(2,)))\n",
    "    model.add(layers.Dense(16))\n",
    "    model.add(layers.Dense(16))\n",
    "    model.add(layers.Dense(1))\n",
    "    model.compile(loss='mean_squared_error', metrics=['accuracy'], optimizer='adam')\n",
    "    X_train, y_train = make_data(10000, func)\n",
    "    X_test, y_test = make_data(1000, func)\n",
    "    model.fit(X_train, y_train, batch_size=128, epochs=epochs, verbose=0, validation_data=(X_test, y_test))\n",
    "    return model"
   ]
  },
  {
   "cell_type": "code",
   "execution_count": 20,
   "metadata": {},
   "outputs": [
    {
     "name": "stdout",
     "output_type": "stream",
     "text": [
      "WARNING:tensorflow:11 out of the last 11 calls to <function Model.make_predict_function.<locals>.predict_function at 0x7faaa0632ee0> triggered tf.function retracing. Tracing is expensive and the excessive number of tracings could be due to (1) creating @tf.function repeatedly in a loop, (2) passing tensors with different shapes, (3) passing Python objects instead of tensors. For (1), please define your @tf.function outside of the loop. For (2), @tf.function has experimental_relax_shapes=True option that relaxes argument shapes that can avoid unnecessary retracing. For (3), please refer to https://www.tensorflow.org/tutorials/customization/performance#python_or_tensor_args and https://www.tensorflow.org/api_docs/python/tf/function for  more details.\n",
      "The model predicts 6+9 to be 15.012564659118652, when in fact it is 15.\n"
     ]
    }
   ],
   "source": [
    "model = model_on_func(lambda x, y: x+y)\n",
    "p = np.random.randint(10)\n",
    "q = np.random.randint(10)\n",
    "prediction = model.predict([[p, q]])\n",
    "print(f'The model predicts {p}+{q} to be {prediction[0][0]}, when in fact it is {p+q}.')"
   ]
  },
  {
   "cell_type": "code",
   "execution_count": 22,
   "metadata": {},
   "outputs": [
    {
     "name": "stdout",
     "output_type": "stream",
     "text": [
      "WARNING:tensorflow:11 out of the last 11 calls to <function Model.make_predict_function.<locals>.predict_function at 0x7faaa058a550> triggered tf.function retracing. Tracing is expensive and the excessive number of tracings could be due to (1) creating @tf.function repeatedly in a loop, (2) passing tensors with different shapes, (3) passing Python objects instead of tensors. For (1), please define your @tf.function outside of the loop. For (2), @tf.function has experimental_relax_shapes=True option that relaxes argument shapes that can avoid unnecessary retracing. For (3), please refer to https://www.tensorflow.org/tutorials/customization/performance#python_or_tensor_args and https://www.tensorflow.org/api_docs/python/tf/function for  more details.\n",
      "The model predicts 2*4+3*2 to be 14.006721496582031, when in fact it is 14.\n"
     ]
    }
   ],
   "source": [
    "model = model_on_func(lambda x, y: 2*x+3*y, epochs=200)\n",
    "p = np.random.randint(10)\n",
    "q = np.random.randint(10)\n",
    "prediction = model.predict([[p, q]])\n",
    "print(f'The model predicts 2*{p}+3*{q} to be {prediction[0][0]}, when in fact it is {2*p+3*q}.')"
   ]
  }
 ],
 "metadata": {
  "kernelspec": {
   "display_name": "Python 3",
   "language": "python",
   "name": "python3"
  },
  "language_info": {
   "codemirror_mode": {
    "name": "ipython",
    "version": 3
   },
   "file_extension": ".py",
   "mimetype": "text/x-python",
   "name": "python",
   "nbconvert_exporter": "python",
   "pygments_lexer": "ipython3",
   "version": "3.8.5"
  }
 },
 "nbformat": 4,
 "nbformat_minor": 4
}
